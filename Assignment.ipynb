{
 "cells": [
  {
   "cell_type": "markdown",
   "id": "e0f67614-e55f-4ce6-a312-c2b838227d89",
   "metadata": {},
   "source": [
    "# Data Types"
   ]
  },
  {
   "cell_type": "markdown",
   "id": "4fddcaea-5ac8-4fe2-a7d2-2222ca54deef",
   "metadata": {},
   "source": [
    "## List"
   ]
  },
  {
   "cell_type": "code",
   "execution_count": 5,
   "id": "a73d2399-97b7-493d-9bcc-7cbeef6c1e4b",
   "metadata": {},
   "outputs": [
    {
     "name": "stdout",
     "output_type": "stream",
     "text": [
      "[1, 2, 3, 4]\n",
      "['apple', 'banana', 'orange']\n"
     ]
    }
   ],
   "source": [
    "List1 = [1, 2, 3, 4]\n",
    "list2 = [\"apple\", \"banana\", \"orange\"]\n",
    "\n",
    "print(List1)\n",
    "print(list2)"
   ]
  },
  {
   "cell_type": "markdown",
   "id": "1b6133c9-f127-4ae3-801d-4eb213bb4b52",
   "metadata": {},
   "source": [
    "## Set"
   ]
  },
  {
   "cell_type": "code",
   "execution_count": 6,
   "id": "317a2d4a-5bfb-4edd-9028-c64d5805158d",
   "metadata": {},
   "outputs": [
    {
     "name": "stdout",
     "output_type": "stream",
     "text": [
      "{88, 45, 78}\n"
     ]
    }
   ],
   "source": [
    "score = {45, 88, 78}\n",
    "print(score)"
   ]
  },
  {
   "cell_type": "markdown",
   "id": "a0d7d548-3172-408b-aba2-4c6ffdd98b28",
   "metadata": {},
   "source": [
    "## Tuples"
   ]
  },
  {
   "cell_type": "code",
   "execution_count": 7,
   "id": "cd5dbd8c-cbd1-4446-877c-25371b05e2cf",
   "metadata": {},
   "outputs": [
    {
     "name": "stdout",
     "output_type": "stream",
     "text": [
      "(4.8, 3.9, 4.2)\n"
     ]
    }
   ],
   "source": [
    "gpa = (4.8, 3.9, 4.2)\n",
    "print(gpa)"
   ]
  },
  {
   "cell_type": "markdown",
   "id": "1f5a9b3c-1fdd-4783-8c36-8f61a8c4daf9",
   "metadata": {},
   "source": [
    "## Boolean"
   ]
  },
  {
   "cell_type": "code",
   "execution_count": 9,
   "id": "2dc29027-469d-4141-8e8e-fcb19482d8a4",
   "metadata": {},
   "outputs": [
    {
     "name": "stdout",
     "output_type": "stream",
     "text": [
      "True\n",
      "False\n"
     ]
    }
   ],
   "source": [
    "x = 7\n",
    "y = 5\n",
    "\n",
    "print(x>y)\n",
    "print(y>x)"
   ]
  },
  {
   "cell_type": "markdown",
   "id": "65506df5-09cf-4157-951f-0070bf08dd61",
   "metadata": {},
   "source": [
    "## Complex Numbers"
   ]
  },
  {
   "cell_type": "code",
   "execution_count": 10,
   "id": "f1ab86b1-1852-4f46-bdba-a86b02cbea48",
   "metadata": {},
   "outputs": [
    {
     "name": "stdout",
     "output_type": "stream",
     "text": [
      "(5+5j)\n"
     ]
    }
   ],
   "source": [
    "x1 = 2 + 4j\n",
    "x2 = 3 + 1j\n",
    "\n",
    "print(x1 + x2)"
   ]
  },
  {
   "cell_type": "markdown",
   "id": "285eef45-7473-4b47-b428-b8890f788dda",
   "metadata": {},
   "source": [
    "## Integer"
   ]
  },
  {
   "cell_type": "code",
   "execution_count": 11,
   "id": "5ebebf25-3f28-45d1-9fb1-6300b8a99410",
   "metadata": {},
   "outputs": [
    {
     "name": "stdout",
     "output_type": "stream",
     "text": [
      "He scored 86 in java\n"
     ]
    }
   ],
   "source": [
    "score = 86\n",
    "print(f\"He scored {score} in java\")"
   ]
  },
  {
   "cell_type": "markdown",
   "id": "2e5d7285-df58-4a54-a13a-65dbd9f5241d",
   "metadata": {},
   "source": [
    "## Float"
   ]
  },
  {
   "cell_type": "code",
   "execution_count": 13,
   "id": "65abca85-f174-4060-bbc6-3a924bb3b9ee",
   "metadata": {},
   "outputs": [
    {
     "name": "stdout",
     "output_type": "stream",
     "text": [
      "He scored 78.3 in java\n"
     ]
    }
   ],
   "source": [
    "score = 78.3\n",
    "print(f\"He scored {score} in java\")"
   ]
  }
 ],
 "metadata": {
  "kernelspec": {
   "display_name": "Python 3 (ipykernel)",
   "language": "python",
   "name": "python3"
  },
  "language_info": {
   "codemirror_mode": {
    "name": "ipython",
    "version": 3
   },
   "file_extension": ".py",
   "mimetype": "text/x-python",
   "name": "python",
   "nbconvert_exporter": "python",
   "pygments_lexer": "ipython3",
   "version": "3.13.7"
  }
 },
 "nbformat": 4,
 "nbformat_minor": 5
}
